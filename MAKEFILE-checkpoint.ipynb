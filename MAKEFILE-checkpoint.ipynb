{
 "cells": [
  {
   "cell_type": "markdown",
   "id": "cf512fa0",
   "metadata": {},
   "source": [
    "# Data Loading"
   ]
  },
  {
   "cell_type": "code",
   "execution_count": 41,
   "id": "a2e26417",
   "metadata": {},
   "outputs": [],
   "source": [
    "import os\n",
    "import codecs\n",
    "\n",
    "train_happy = []\n",
    "folder_path = 'Data/Training_Data/Happy_Songs/'\n",
    "for file_name in os.listdir(folder_path):\n",
    "    file_path = os.path.join(folder_path, file_name)\n",
    "    try:\n",
    "        with open(file_path, 'r', encoding='utf-8') as f:\n",
    "            train_happy.append(f.read())\n",
    "    except UnicodeDecodeError:\n",
    "        print(f\"Error decoding file: {file_path}\")\n",
    "\n",
    "train_sad = []\n",
    "folder_path = 'Data/Training_Data/Sad_Songs/'\n",
    "for file_name in os.listdir(folder_path):\n",
    "    file_path = os.path.join(folder_path, file_name)\n",
    "    try:\n",
    "        with open(file_path, 'r', encoding='utf-8') as f:\n",
    "            train_sad.append(f.read())\n",
    "    except UnicodeDecodeError:\n",
    "        print(f\"Error decoding file: {file_path}\")\n",
    "\n",
    "test_happy = []\n",
    "folder_path = 'Data/Test_Data/Happy_Songs/'\n",
    "for file_name in os.listdir(folder_path):\n",
    "    file_path = os.path.join(folder_path, file_name)\n",
    "    try:\n",
    "        with open(file_path, 'r', encoding='utf-8') as f:\n",
    "            test_happy.append(f.read())\n",
    "    except UnicodeDecodeError:\n",
    "        print(f\"Error decoding file: {file_path}\")\n",
    "\n",
    "test_sad = []\n",
    "folder_path = 'Data/Test_Data/Sad_Songs/'\n",
    "for file_name in os.listdir(folder_path):\n",
    "    file_path = os.path.join(folder_path, file_name)\n",
    "    try:\n",
    "        with open(file_path, 'r', encoding='utf-8') as f:\n",
    "            test_sad.append(f.read())\n",
    "    except UnicodeDecodeError:\n",
    "        print(f\"Error decoding file: {file_path}\")\n"
   ]
  },
  {
   "cell_type": "markdown",
   "id": "d2945e68",
   "metadata": {},
   "source": [
    "# Data Preprocessing"
   ]
  },
  {
   "cell_type": "code",
   "execution_count": 17,
   "id": "05f00778",
   "metadata": {},
   "outputs": [],
   "source": [
    "import string\n",
    "telugu_characters  = [chr(i) for i in range(ord(b'\\\\u0c00'.decode('unicode_escape')), ord(b'\\\\u0c7f'.decode('unicode_escape'))+1)]\n",
    "\n",
    "def preprocess(songs_list):\n",
    "    updated_songs_list = []\n",
    "    for song in songs_list:\n",
    "        processed_song = ''\n",
    "        for ch in song:\n",
    "            if(ch in telugu_characters):\n",
    "                processed_song += ch\n",
    "            elif(ch == ' ' or ch == '.' or ch==','):\n",
    "                if(processed_song[-1]!=' '):\n",
    "                    processed_song += ' '\n",
    "        updated_songs_list.append(processed_song)\n",
    "    return updated_songs_list\n",
    "        \n",
    "train_happy = [list(song.split(' ')) for song in preprocess(train_happy)]\n",
    "train_sad = [list(song.split(' ')) for song in preprocess(train_sad)]\n",
    "\n",
    "test_happy = [list(song.split(' ')) for song in preprocess(test_happy)]\n",
    "test_sad = [list(song.split(' ')) for song in preprocess(test_sad)]"
   ]
  },
  {
   "cell_type": "markdown",
   "id": "eac6aec5",
   "metadata": {},
   "source": [
    "# Converting Songs to Vectors"
   ]
  },
  {
   "cell_type": "code",
   "execution_count": 43,
   "id": "2f1bc68e",
   "metadata": {},
   "outputs": [
    {
     "name": "stdout",
     "output_type": "stream",
     "text": [
      "Embedding Shape is (300,)\n",
      "Nearest Neighbors to మనసు are:\n"
     ]
    },
    {
     "name": "stderr",
     "output_type": "stream",
     "text": [
      "Warning : `load_model` does not return WordVectorModel or SupervisedModel any more, but a `FastText` object which is very similar.\n"
     ]
    },
    {
     "data": {
      "text/plain": [
       "[(0.7650183439254761, 'మనసును'),\n",
       " (0.7404142618179321, 'మనసుని'),\n",
       " (0.7011533379554749, 'మనసూ'),\n",
       " (0.6911419034004211, 'మనస్సు'),\n",
       " (0.6807750463485718, 'మనుసు'),\n",
       " (0.6777817010879517, 'మనసునే'),\n",
       " (0.6626439690589905, 'మనసులు'),\n",
       " (0.648022472858429, 'మనస్సును'),\n",
       " (0.6384133696556091, 'మనసుకి'),\n",
       " (0.6321133971214294, 'మనసు.')]"
      ]
     },
     "execution_count": 43,
     "metadata": {},
     "output_type": "execute_result"
    }
   ],
   "source": [
    "import fasttext\n",
    "import fasttext.util\n",
    "ft = fasttext.load_model('indicnlp.ft.te.300.bin')\n",
    "word = \"మనసు\"\n",
    "print(\"Embedding Shape is {}\".format(ft.get_word_vector(word).shape))\n",
    "print(\"Nearest Neighbors to {} are:\".format(word))\n",
    "ft.get_nearest_neighbors(word)"
   ]
  },
  {
   "cell_type": "code",
   "execution_count": 21,
   "id": "4da58703",
   "metadata": {
    "scrolled": false
   },
   "outputs": [
    {
     "name": "stderr",
     "output_type": "stream",
     "text": [
      "/var/folders/x8/vnlw7czx7nvbhryq91cty6_m0000gn/T/ipykernel_31134/2968387584.py:5: DeprecationWarning: Call to deprecated `load_fasttext_format` (use load_facebook_vectors (to use pretrained embeddings) or load_facebook_model (to continue training with the loaded full model, more RAM) instead).\n",
      "  model = FastText.load_fasttext_format(pretrained_model_path)\n"
     ]
    }
   ],
   "source": [
    "from gensim.models import FastText\n",
    "\n",
    "# Load pre-trained model\n",
    "pretrained_model_path = \"indicnlp.ft.te.300.bin\"\n",
    "model = FastText.load_fasttext_format(pretrained_model_path)\n",
    "\n",
    "training_data = train_happy + train_sad\n",
    "# Fine-tune the model\n",
    "model.build_vocab(corpus_iterable=training_data , update=True)\n",
    "model.train(corpus_iterable=training_data , total_examples=len(training_data), epochs=10)\n",
    "\n",
    "# Save the fine-tuned model\n",
    "fine_tuned_model_path = \"fine_tuned_indicnlp.ft.te.300.bin\"\n",
    "model.save(fine_tuned_model_path)"
   ]
  },
  {
   "cell_type": "code",
   "execution_count": 22,
   "id": "e2cef637",
   "metadata": {},
   "outputs": [],
   "source": [
    "from gensim.models import FastText\n",
    "\n",
    "# Loading the fine-tuned FastText model\n",
    "fine_tuned_model_path = \"fine_tuned_indicnlp.ft.te.300.bin\"\n",
    "model = FastText.load(fine_tuned_model_path)\n",
    "\n",
    "import numpy as np\n",
    "\n",
    "# Function to convert a song into a vector representation\n",
    "def song_to_vector(song, model):\n",
    "    word_vectors = []\n",
    "    for word in song:\n",
    "        embeddings = model.wv[word]\n",
    "        word_vectors.append(embeddings)\n",
    "\n",
    "    if len(word_vectors) > 0:\n",
    "        return np.mean(word_vectors, axis=0)\n",
    "    else:\n",
    "        # If no words in the song are in the vocabulary, return zeros\n",
    "        return np.zeros(model.vector_size)\n",
    "    \n",
    "# Example usage:\n",
    "train_happy_vectors = [song_to_vector(song, model) for song in train_happy]\n",
    "train_sad_vectors = [song_to_vector(song, model) for song in train_sad]\n",
    "test_happy_vectors = [song_to_vector(song, model) for song in test_happy]\n",
    "test_sad_vectors = [song_to_vector(song, model) for song in test_sad]"
   ]
  },
  {
   "cell_type": "markdown",
   "id": "084e4a7c",
   "metadata": {},
   "source": [
    "# Training & Predicting Using ML Models"
   ]
  },
  {
   "cell_type": "code",
   "execution_count": 23,
   "id": "33b95411",
   "metadata": {},
   "outputs": [],
   "source": [
    "training_Labels = [1 for i in train_happy] + [0 for i in train_sad]\n",
    "testing_Labels = [1 for i in test_happy] + [0 for i in test_sad]\n",
    "\n",
    "X_train = train_happy_vectors + train_sad_vectors\n",
    "X_test = test_happy_vectors + test_sad_vectors\n",
    "y_train = training_Labels\n",
    "y_test = testing_Labels"
   ]
  },
  {
   "cell_type": "markdown",
   "id": "1001f180",
   "metadata": {},
   "source": [
    "## Naive Bayes"
   ]
  },
  {
   "cell_type": "code",
   "execution_count": 32,
   "id": "1e937ddb",
   "metadata": {},
   "outputs": [
    {
     "name": "stdout",
     "output_type": "stream",
     "text": [
      "Accuracy:  0.66\n",
      "\n",
      "Classification Report:\n",
      "              precision    recall  f1-score   support\n",
      "\n",
      "           0       0.62      0.80      0.70        50\n",
      "           1       0.72      0.52      0.60        50\n",
      "\n",
      "    accuracy                           0.66       100\n",
      "   macro avg       0.67      0.66      0.65       100\n",
      "weighted avg       0.67      0.66      0.65       100\n",
      "\n"
     ]
    }
   ],
   "source": [
    "from sklearn.naive_bayes import GaussianNB\n",
    "from sklearn.metrics import accuracy_score, classification_report\n",
    "\n",
    "clf = GaussianNB()\n",
    "clf.fit(X_train, y_train)\n",
    "\n",
    "predictions = clf.predict(X_test)\n",
    "accuracy = accuracy_score (y_test, predictions)\n",
    "print(f\"Accuracy: {accuracy: .2f}\")\n",
    "print(\"\\nClassification Report:\")\n",
    "print(classification_report(testing_Labels, predictions))"
   ]
  },
  {
   "cell_type": "markdown",
   "id": "5098e4d9",
   "metadata": {},
   "source": [
    "## Logistic Regression"
   ]
  },
  {
   "cell_type": "code",
   "execution_count": 33,
   "id": "94667b16",
   "metadata": {},
   "outputs": [
    {
     "name": "stdout",
     "output_type": "stream",
     "text": [
      "Accuracy:  0.72\n",
      "\n",
      "Classification Report:\n",
      "              precision    recall  f1-score   support\n",
      "\n",
      "           0       0.70      0.78      0.74        50\n",
      "           1       0.75      0.66      0.70        50\n",
      "\n",
      "    accuracy                           0.72       100\n",
      "   macro avg       0.72      0.72      0.72       100\n",
      "weighted avg       0.72      0.72      0.72       100\n",
      "\n"
     ]
    }
   ],
   "source": [
    "from sklearn.linear_model import LogisticRegression\n",
    "from sklearn.metrics import accuracy_score, classification_report\n",
    "\n",
    "classifier = LogisticRegression(max_iter=10000)\n",
    "classifier.fit(X_train, y_train)\n",
    "\n",
    "predictions = classifier.predict(X_test)\n",
    "\n",
    "accuracy = accuracy_score (y_test, predictions)\n",
    "print(f\"Accuracy: {accuracy: .2f}\")\n",
    "print(\"\\nClassification Report:\")\n",
    "print(classification_report(testing_Labels, predictions))"
   ]
  },
  {
   "cell_type": "markdown",
   "id": "0fc6d8f4",
   "metadata": {},
   "source": [
    "## Support Vector Classifier"
   ]
  },
  {
   "cell_type": "code",
   "execution_count": 37,
   "id": "b26f007a",
   "metadata": {},
   "outputs": [
    {
     "name": "stdout",
     "output_type": "stream",
     "text": [
      "Accuracy: 0.72\n",
      "\n",
      "Classification Report:\n",
      "              precision    recall  f1-score   support\n",
      "\n",
      "           0       0.70      0.78      0.74        50\n",
      "           1       0.75      0.66      0.70        50\n",
      "\n",
      "    accuracy                           0.72       100\n",
      "   macro avg       0.72      0.72      0.72       100\n",
      "weighted avg       0.72      0.72      0.72       100\n",
      "\n"
     ]
    }
   ],
   "source": [
    "from sklearn.svm import SVC\n",
    "\n",
    "svm_classifier = SVC(kernel='linear', random_state=33)\n",
    "\n",
    "# Train the SVM classifier\n",
    "svm_classifier.fit(X_train, y_train)\n",
    "\n",
    "# Make predictions on the testing set\n",
    "y_pred = svm_classifier.predict(X_test)\n",
    "\n",
    "# Evaluate the model\n",
    "accuracy = accuracy_score(y_test, y_pred)\n",
    "\n",
    "print(\"Accuracy:\", accuracy)\n",
    "print(\"\\nClassification Report:\")\n",
    "print(classification_report(testing_Labels, y_pred))"
   ]
  },
  {
   "cell_type": "markdown",
   "id": "d821e86e",
   "metadata": {},
   "source": [
    "## Decision Tree Classifier"
   ]
  },
  {
   "cell_type": "code",
   "execution_count": 38,
   "id": "00b569e0",
   "metadata": {},
   "outputs": [
    {
     "name": "stdout",
     "output_type": "stream",
     "text": [
      "Fitting 5 folds for each of 1134 candidates, totalling 5670 fits\n",
      "Best parameters: {'criterion': 'gini', 'max_depth': 2, 'min_samples_leaf': 1, 'min_samples_split': 2}\n",
      "Best estimator: DecisionTreeClassifier(max_depth=2)\n",
      "Accuracy on test set: 0.64\n",
      "\n",
      "Classification Report:\n",
      "              precision    recall  f1-score   support\n",
      "\n",
      "           0       0.68      0.54      0.60        50\n",
      "           1       0.62      0.74      0.67        50\n",
      "\n",
      "    accuracy                           0.64       100\n",
      "   macro avg       0.65      0.64      0.64       100\n",
      "weighted avg       0.65      0.64      0.64       100\n",
      "\n"
     ]
    }
   ],
   "source": [
    "from sklearn.tree import DecisionTreeClassifier\n",
    "import numpy as np\n",
    "from sklearn.model_selection import GridSearchCV\n",
    "\n",
    "clf = DecisionTreeClassifier()\n",
    "\n",
    "# Setup Parameter Grid\n",
    "param_grid = {\n",
    "    'criterion': ['gini', 'entropy', 'log_loss'], \n",
    "    'max_depth': [2,4, 5, 6, 7,10 , 15 , 20, None],\n",
    "    'min_samples_split': [2, 3, 5, 7, 9 , 12 , 15],\n",
    "    'min_samples_leaf': [1, 2, 4 , 6 , 8 , 10]\n",
    "}\n",
    "\n",
    "# Instantiate GridSearchCV\n",
    "grid_search = GridSearchCV(estimator=clf, param_grid=param_grid, cv=5, n_jobs=-1, verbose=1)\n",
    "\n",
    "# Fit the model\n",
    "grid_search.fit(X_train, y_train)\n",
    "\n",
    "# Best Parameters and Best Estimator\n",
    "print(\"Best parameters:\", grid_search.best_params_)\n",
    "print(\"Best estimator:\", grid_search.best_estimator_)\n",
    "\n",
    "# Evaluate on Test Set\n",
    "best_model = grid_search.best_estimator_\n",
    "y_pred = best_model.predict(X_test)\n",
    "accuracy = np.mean(y_test == y_pred) \n",
    "print(\"Accuracy on test set:\", accuracy)\n",
    "print(\"\\nClassification Report:\")\n",
    "print(classification_report(testing_Labels, y_pred))"
   ]
  },
  {
   "cell_type": "markdown",
   "id": "36131d7b",
   "metadata": {},
   "source": [
    "## Random Forest Classifier"
   ]
  },
  {
   "cell_type": "code",
   "execution_count": 40,
   "id": "9f9d3eed",
   "metadata": {},
   "outputs": [
    {
     "name": "stdout",
     "output_type": "stream",
     "text": [
      "Fitting 2 folds for each of 4032 candidates, totalling 8064 fits\n",
      "Best parameters: {'bootstrap': False, 'max_depth': 8, 'min_samples_leaf': 5, 'min_samples_split': 15, 'n_estimators': 20}\n",
      "Best estimator: RandomForestClassifier(bootstrap=False, max_depth=8, min_samples_leaf=5,\n",
      "                       min_samples_split=15, n_estimators=20)\n",
      "Accuracy on test set: 0.72\n",
      "\n",
      "Classification Report:\n",
      "              precision    recall  f1-score   support\n",
      "\n",
      "           0       0.71      0.74      0.73        50\n",
      "           1       0.73      0.70      0.71        50\n",
      "\n",
      "    accuracy                           0.72       100\n",
      "   macro avg       0.72      0.72      0.72       100\n",
      "weighted avg       0.72      0.72      0.72       100\n",
      "\n"
     ]
    }
   ],
   "source": [
    "from sklearn.model_selection import GridSearchCV\n",
    "from sklearn.ensemble import RandomForestClassifier\n",
    "rf = RandomForestClassifier()\n",
    "\n",
    "# Setup Parameter Grid\n",
    "param_grid = {\n",
    "    'n_estimators': [20 , 30 , 40 ,50, 100, 200], # Number of trees in the forest\n",
    "    'max_depth': [3,4, 5,6, 7, 8 , 9,  None], \n",
    "    'min_samples_split': [2, 3, 5 , 7 , 9 , 10 , 15],\n",
    "    'min_samples_leaf': [1, 2, 3, 4, 5 , 6 ],\n",
    "    'bootstrap': [True, False] # Whether to use bootstrap sampling\n",
    "}\n",
    "\n",
    "# Instantiate GridSearchCV\n",
    "grid_search = GridSearchCV(estimator=rf, param_grid=param_grid, cv=2, n_jobs=-1, verbose=1)\n",
    "\n",
    "# Fit the model\n",
    "grid_search.fit(X_train, y_train)\n",
    "\n",
    "# Best Parameters and Best Estimator\n",
    "print(\"Best parameters:\", grid_search.best_params_)\n",
    "print(\"Best estimator:\", grid_search.best_estimator_)\n",
    "\n",
    "# Evaluate on Test Set\n",
    "best_model = grid_search.best_estimator_\n",
    "y_pred = best_model.predict(X_test)\n",
    "accuracy = np.mean(y_test == y_pred) \n",
    "print(\"Accuracy on test set:\", accuracy)\n",
    "print(\"\\nClassification Report:\")\n",
    "print(classification_report(testing_Labels, y_pred))"
   ]
  },
  {
   "cell_type": "code",
   "execution_count": null,
   "id": "ecb8f415",
   "metadata": {},
   "outputs": [],
   "source": []
  }
 ],
 "metadata": {
  "kernelspec": {
   "display_name": "Python 3 (ipykernel)",
   "language": "python",
   "name": "python3"
  },
  "language_info": {
   "codemirror_mode": {
    "name": "ipython",
    "version": 3
   },
   "file_extension": ".py",
   "mimetype": "text/x-python",
   "name": "python",
   "nbconvert_exporter": "python",
   "pygments_lexer": "ipython3",
   "version": "3.11.4"
  }
 },
 "nbformat": 4,
 "nbformat_minor": 5
}
